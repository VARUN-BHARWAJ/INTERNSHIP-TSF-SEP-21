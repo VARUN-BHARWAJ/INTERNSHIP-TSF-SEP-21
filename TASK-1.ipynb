{
 "cells": [
  {
   "cell_type": "markdown",
   "id": "60270167",
   "metadata": {},
   "source": [
    "# TASK-1  (LINEAR REGRESSION)\n",
    "## NAME - VARUN BHARDWAJ"
   ]
  },
  {
   "cell_type": "markdown",
   "id": "e511d9ba",
   "metadata": {},
   "source": [
    "# IMPORTING DATA"
   ]
  },
  {
   "cell_type": "code",
   "execution_count": 1,
   "id": "f544c6c9",
   "metadata": {},
   "outputs": [],
   "source": [
    "# IMPORTING SOME COMMON LIBRARIES\n",
    "import numpy as np\n",
    "import pandas as pd\n",
    "import matplotlib.pyplot as plt"
   ]
  },
  {
   "cell_type": "code",
   "execution_count": 2,
   "id": "353c9b60",
   "metadata": {},
   "outputs": [
    {
     "name": "stdout",
     "output_type": "stream",
     "text": [
      "SUCCESSFULLY IMPORTED DATA !!\n",
      "    Hours  Scores\n",
      "0     2.5      21\n",
      "1     5.1      47\n",
      "2     3.2      27\n",
      "3     8.5      75\n",
      "4     3.5      30\n",
      "5     1.5      20\n",
      "6     9.2      88\n",
      "7     5.5      60\n",
      "8     8.3      81\n",
      "9     2.7      25\n",
      "10    7.7      85\n",
      "11    5.9      62\n",
      "12    4.5      41\n",
      "13    3.3      42\n",
      "14    1.1      17\n",
      "15    8.9      95\n",
      "16    2.5      30\n",
      "17    1.9      24\n",
      "18    6.1      67\n",
      "19    7.4      69\n",
      "20    2.7      30\n",
      "21    4.8      54\n",
      "22    3.8      35\n",
      "23    6.9      76\n",
      "24    7.8      86\n"
     ]
    }
   ],
   "source": [
    "# DEFINING URL OF DATA\n",
    "url = \"http://bit.ly/w-data\"\n",
    "# READING DATA INTO A PANDAS DATAFRAME\n",
    "data = pd.read_csv(url)\n",
    "print(\"SUCCESSFULLY IMPORTED DATA !!\")\n",
    "# PRINTING DATA\n",
    "print(data)"
   ]
  },
  {
   "cell_type": "markdown",
   "id": "c6f357ef",
   "metadata": {},
   "source": [
    "# PLOTTING DATA"
   ]
  },
  {
   "cell_type": "code",
   "execution_count": 3,
   "id": "17988e61",
   "metadata": {},
   "outputs": [
    {
     "data": {
      "image/png": "[encoded data removed]",
      "text/plain": [
       "<Figure size 432x288 with 1 Axes>"
      ]
     },
     "metadata": {
      "needs_background": "light"
     },
     "output_type": "display_data"
    }
   ],
   "source": [
    "# PLOTTING DATA TO VISUALISE IT\n",
    "## DEFINING X,Y VARIABLES AND STYLE OF PLOT\n",
    "data.plot(x = 'Hours', y = 'Scores', style = 'o')\n",
    "## TITLE OF THE PLOT\n",
    "plt.title(\"HOURS v/s PERCENTAGE\")\n",
    "## X-AXIS LABEL\n",
    "plt.xlabel(\"HOURS STUDIED\")\n",
    "## Y-AXIS LABEL\n",
    "plt.ylabel(\"PERCENTAGE SCORE\")\n",
    "## PLOTTING DATA\n",
    "plt.show()"
   ]
  },
  {
   "cell_type": "markdown",
   "id": "1accee16",
   "metadata": {},
   "source": [
    "# PREPARING DATA"
   ]
  },
  {
   "cell_type": "code",
   "execution_count": 4,
   "id": "7a852332",
   "metadata": {},
   "outputs": [],
   "source": [
    "# SEPARATING DATA INTO X AND Y VARIABLE\n",
    "X = data.iloc[:,:-1].values\n",
    "y = data.iloc[:,1].values"
   ]
  },
  {
   "cell_type": "code",
   "execution_count": 5,
   "id": "06409537",
   "metadata": {},
   "outputs": [],
   "source": [
    "# IMPORTING TRAIN-TEST SPLIT\n",
    "from sklearn.model_selection import train_test_split\n",
    "# SPLITING DATA\n",
    "X_train, X_test, y_train, y_test = train_test_split(X, y, test_size = 0.2, random_state = 42)"
   ]
  },
  {
   "cell_type": "markdown",
   "id": "a22dc315",
   "metadata": {},
   "source": [
    "# DEFINING AND TRAINING MODEL"
   ]
  },
  {
   "cell_type": "code",
   "execution_count": 6,
   "id": "067f0c1d",
   "metadata": {},
   "outputs": [
    {
     "data": {
      "text/plain": [
       "XGBRegressor(base_score=0.5, booster='gblinear', colsample_bylevel=None,\n",
       "             colsample_bynode=None, colsample_bytree=None, gamma=None,\n",
       "             gpu_id=-1, importance_type='gain', interaction_constraints=None,\n",
       "             learning_rate=0.5, max_delta_step=None, max_depth=None,\n",
       "             min_child_weight=None, missing=nan, monotone_constraints=None,\n",
       "             n_estimators=100, n_jobs=8, num_parallel_tree=None, random_state=0,\n",
       "             reg_alpha=0, reg_lambda=0, scale_pos_weight=1, subsample=None,\n",
       "             tree_method=None, validate_parameters=1, verbosity=None)"
      ]
     },
     "execution_count": 6,
     "metadata": {},
     "output_type": "execute_result"
    }
   ],
   "source": [
    "# IMPORTING XGBOOST-REGRESSOR MODEL\n",
    "from xgboost import XGBRegressor as xgbr\n",
    "# DEFINING INSTANCE OF XGBOOST-REGRESSOR WITH 'GBLINEAR' BOOSTER\n",
    "model = xgbr(booster='gblinear')\n",
    "# FITTING TRAINING DATA INTO MODEL\n",
    "model.fit(X_train,y_train)"
   ]
  },
  {
   "cell_type": "markdown",
   "id": "8ea99bd0",
   "metadata": {},
   "source": [
    "# COMPARING HYPOTHESIS WITH ACTUAL DATA POINTS"
   ]
  },
  {
   "cell_type": "code",
   "execution_count": 7,
   "id": "fca320bf",
   "metadata": {},
   "outputs": [
    {
     "data": {
      "image/png": "[encoded data removed]",
      "text/plain": [
       "<Figure size 432x288 with 1 Axes>"
      ]
     },
     "metadata": {
      "needs_background": "light"
     },
     "output_type": "display_data"
    }
   ],
   "source": [
    "# PLOTTING PLOTS OF X, Y(PREDICTED BY MODEL) AND x, Y(ACTUAL)\n",
    "## DEFINIG HYPOTHESIS CURVE\n",
    "line = model.coef_*(X) + model.intercept_\n",
    "## PLOTTING SCATTER PLOT BETWEEN X AND Y\n",
    "plt.scatter(X,y)\n",
    "## PLOTTING LINEAR PLOT BETWEEN X AND HYPOTHESIS CURVE\n",
    "plt.plot(X,line)\n",
    "# PLOTTING THE ABOVE DEFINED PLOTS\n",
    "plt.show()"
   ]
  },
  {
   "cell_type": "markdown",
   "id": "2e68079b",
   "metadata": {},
   "source": [
    "# MAKING PREDICTION"
   ]
  },
  {
   "cell_type": "code",
   "execution_count": 8,
   "id": "ab569fb6",
   "metadata": {},
   "outputs": [
    {
     "name": "stdout",
     "output_type": "stream",
     "text": [
      "[[8.3]\n",
      " [2.5]\n",
      " [2.5]\n",
      " [6.9]\n",
      " [5.9]]\n"
     ]
    }
   ],
   "source": [
    "# PRINTING TEST DATA\n",
    "print(X_test)\n",
    "# MAKING PREDICTION ON TEST DATA\n",
    "y_pred = model.predict(X_test)"
   ]
  },
  {
   "cell_type": "markdown",
   "id": "e3fb3f31",
   "metadata": {},
   "source": [
    "# COMPARING PREDICTION WITH ACTUAL DATA"
   ]
  },
  {
   "cell_type": "code",
   "execution_count": 9,
   "id": "4fe986a7",
   "metadata": {},
   "outputs": [
    {
     "name": "stdout",
     "output_type": "stream",
     "text": [
      "   Actual  Predicted\n",
      "0      81  83.176292\n",
      "1      30  27.047291\n",
      "2      21  27.047291\n",
      "3      76  69.627907\n",
      "4      62  59.950493\n"
     ]
    }
   ],
   "source": [
    "# COMPARING ACTUAL AND PREDICTED DATA\n",
    "# DEFINING DATAFRAME OF ACTUAL AND PREDICTED DATA\n",
    "df = pd.DataFrame({'Actual' : y_test, 'Predicted' : y_pred})\n",
    "# PRINTING DATAFRAME\n",
    "print(df)"
   ]
  },
  {
   "cell_type": "markdown",
   "id": "6238c47a",
   "metadata": {},
   "source": [
    "# MAKING PREDICTION ON RANDOM DATA"
   ]
  },
  {
   "cell_type": "code",
   "execution_count": 10,
   "id": "53385274",
   "metadata": {},
   "outputs": [
    {
     "name": "stdout",
     "output_type": "stream",
     "text": [
      "No. of Hours = [[9.25]]\n",
      "Predicted Score = 92.36982727050781\n"
     ]
    }
   ],
   "source": [
    "# MAKING PREDICTION ON OWN DATA\n",
    "# DEFINING OWN DATA\n",
    "hours = [[9.25]]\n",
    "# CONVERTING LIST TO ARRAY\n",
    "hours = np.array(hours)\n",
    "# MAKING PREDICTION USING TRAINED MODEL\n",
    "own_pred = model.predict(hours)\n",
    "# PRINTING RESULT\n",
    "print(\"No. of Hours = {}\".format(hours))\n",
    "print(\"Predicted Score = {}\".format(own_pred[0]))"
   ]
  },
  {
   "cell_type": "markdown",
   "id": "d1016593",
   "metadata": {},
   "source": [
    "# EVALUATING MODEL"
   ]
  },
  {
   "cell_type": "code",
   "execution_count": 11,
   "id": "770fd579",
   "metadata": {},
   "outputs": [
    {
     "name": "stdout",
     "output_type": "stream",
     "text": [
      "MEAN ABSOLUTE ERROR:  3.9195785522460938\n"
     ]
    }
   ],
   "source": [
    "# IMPORTING EVALUATION METRIC (MEAN ABSOLUTE ERROR)\n",
    "from sklearn.metrics import mean_absolute_error as mae\n",
    "# PRINTING RESULT OF EVALUATION\n",
    "print(\"MEAN ABSOLUTE ERROR: \", mae(y_test,y_pred))"
   ]
  }
 ],
 "metadata": {
  "kernelspec": {
   "display_name": "Python 3",
   "language": "python",
   "name": "python3"
  },
  "language_info": {
   "codemirror_mode": {
    "name": "ipython",
    "version": 3
   },
   "file_extension": ".py",
   "mimetype": "text/x-python",
   "name": "python",
   "nbconvert_exporter": "python",
   "pygments_lexer": "ipython3",
   "version": "3.8.8"
  }
 },
 "nbformat": 4,
 "nbformat_minor": 5
}
